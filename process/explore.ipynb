{
 "cells": [
  {
   "cell_type": "code",
   "execution_count": 5,
   "id": "framed-fountain",
   "metadata": {},
   "outputs": [],
   "source": [
    "import json\n",
    "\n",
    "# %matplotlib widget\n",
    "# %matplotlib notebook\n",
    "%matplotlib inline\n",
    "\n",
    "import matplotlib.pyplot as plt\n",
    "import numpy as np\n",
    "import pandas as pd\n",
    "\n",
    "# https://stackoverflow.com/a/37704379\n",
    "def nested_get(dic, keys):    \n",
    "    for key in keys:\n",
    "        dic = dic[key]\n",
    "    return dic\n",
    "\n",
    "\n",
    "def read_data(fp):\n",
    "    data = []\n",
    "    with open(fp) as f:\n",
    "        for line in f:\n",
    "            data.append(json.loads(line))\n",
    "    \n",
    "    return data\n",
    "\n",
    "\n",
    "# Returns just the object fields we care about\n",
    "def wrangle(res):\n",
    "    props = {\n",
    "        \"query\":            \"config.query\",\n",
    "        \"faster_copy\":      \"extra.faster_copy\",\n",
    "        \"num_events\":       \"perf.numEvents\",\n",
    "        \"num_results\":      \"perf.numResults\",\n",
    "        \"events_per_sec\":   \"perf.eventsPerSec\",\n",
    "        \"results_per_sec\":  \"perf.resultsPerSec\",\n",
    "        \"runtime_sec\":      \"perf.runtimeSec\",\n",
    "        \"event_bytes_per_sec\": \"perf.eventBytesPerSec\",\n",
    "        \"result_bytes_per_sec\": \"perf.resultBytesPerSec\",\n",
    "        \"coder\":            \"config.coderStrategy\",\n",
    "        \"avg_auction_size\": \"config.avgAuctionByteSize\",\n",
    "        \"avg_bid_size\":     \"config.avgBidByteSize\",\n",
    "        \"avg_person_size\":  \"config.avgPersonByteSize\",\n",
    "        \"parallelism\": \"extra.parallelism\",\n",
    "    }\n",
    "    ret = {name: nested_get(res[\"Result\"], keys.split(\".\")) for name, keys in props.items()}\n",
    "    return ret"
   ]
  },
  {
   "cell_type": "markdown",
   "id": "quick-hampshire",
   "metadata": {},
   "source": [
    "# Battery 03\n",
    "\n",
    "This battery of tests varies over: query, coder, faster copy. Each run is repeated 10 times.\n",
    "The parallalism is 2"
   ]
  },
  {
   "cell_type": "code",
   "execution_count": 6,
   "id": "average-sleeve",
   "metadata": {},
   "outputs": [],
   "source": [
    "def bat3_convert_to_df(wr):\n",
    "    df = pd.DataFrame.from_records(wr)\n",
    "    df[\"coder\"] = df[\"coder\"].astype(\"category\")\n",
    "    df[\"query\"] = df[\"query\"].astype(\"category\")\n",
    "\n",
    "    # We do some preprocessing here.\n",
    "    df = df.set_index([\"query\", \"coder\", \"faster_copy\"]).sort_index()\n",
    "\n",
    "    return df"
   ]
  },
  {
   "cell_type": "markdown",
   "id": "modern-compact",
   "metadata": {},
   "source": [
    "## Loading the data\n",
    "\n",
    "We load the data from the dump from the go program"
   ]
  },
  {
   "cell_type": "code",
   "execution_count": 7,
   "id": "sporting-tracker",
   "metadata": {},
   "outputs": [],
   "source": [
    "bat3_all = read_data(\"../results/new-res/bat03-01.json\")\n",
    "bat3_good = [wrangle(r) for r in bat3_all if r[\"Status\"] == \"OK\"]\n",
    "df =  bat3_convert_to_df(bat3_good)"
   ]
  },
  {
   "cell_type": "code",
   "execution_count": null,
   "id": "acting-peninsula",
   "metadata": {},
   "outputs": [],
   "source": []
  },
  {
   "cell_type": "markdown",
   "id": "intermediate-peace",
   "metadata": {},
   "source": [
    "## Question 1: How does `faster_copy` affect the different queries for normal queries"
   ]
  },
  {
   "cell_type": "code",
   "execution_count": 8,
   "id": "reflected-strand",
   "metadata": {},
   "outputs": [],
   "source": [
    "bf = df.xs(True, level=2) / df.xs(False, level=2)\n",
    "bf = bf[\"events_per_sec\"]"
   ]
  },
  {
   "cell_type": "code",
   "execution_count": 9,
   "id": "peaceful-investment",
   "metadata": {},
   "outputs": [],
   "source": [
    "gg = bf.groupby([\"query\", \"coder\"]).agg([\"mean\", \"std\"])"
   ]
  },
  {
   "cell_type": "code",
   "execution_count": 10,
   "id": "arabic-contamination",
   "metadata": {},
   "outputs": [
    {
     "data": {
      "text/plain": [
       "query\n",
       "AVERAGE_PRICE_FOR_CATEGORY          12.446056\n",
       "AVERAGE_SELLING_PRICE_BY_SELLER     10.778654\n",
       "CURRENCY_CONVERSION                233.729334\n",
       "HOT_ITEMS                           32.997031\n",
       "LOCAL_ITEM_SUGGESTION              214.923204\n",
       "MONITOR_NEW_USERS                  119.674801\n",
       "PASSTHROUGH                        172.579502\n",
       "PROCESSING_TIME_WINDOWS             24.355242\n",
       "SELECTION                          297.515213\n",
       "SESSION_SIDE_INPUT_JOIN             12.771577\n",
       "USER_SESSIONS                        6.639359\n",
       "WINNING_BIDS                        11.431359\n",
       "Name: mean, dtype: float64"
      ]
     },
     "execution_count": 10,
     "metadata": {},
     "output_type": "execute_result"
    }
   ],
   "source": [
    "((gg.xs(\"HAND\", level=1) - 1)*100)[\"mean\"]"
   ]
  },
  {
   "cell_type": "code",
   "execution_count": 11,
   "id": "technical-asset",
   "metadata": {},
   "outputs": [],
   "source": [
    "jep = gg.unstack()[\"mean\"].sort_values(\"HAND\") - 1"
   ]
  },
  {
   "cell_type": "code",
   "execution_count": 12,
   "id": "starting-giant",
   "metadata": {},
   "outputs": [
    {
     "data": {
      "text/html": [
       "<div>\n",
       "<style scoped>\n",
       "    .dataframe tbody tr th:only-of-type {\n",
       "        vertical-align: middle;\n",
       "    }\n",
       "\n",
       "    .dataframe tbody tr th {\n",
       "        vertical-align: top;\n",
       "    }\n",
       "\n",
       "    .dataframe thead th {\n",
       "        text-align: right;\n",
       "    }\n",
       "</style>\n",
       "<table border=\"1\" class=\"dataframe\">\n",
       "  <thead>\n",
       "    <tr style=\"text-align: right;\">\n",
       "      <th>coder</th>\n",
       "      <th>AVRO</th>\n",
       "      <th>HAND</th>\n",
       "      <th>JAVA</th>\n",
       "    </tr>\n",
       "    <tr>\n",
       "      <th>query</th>\n",
       "      <th></th>\n",
       "      <th></th>\n",
       "      <th></th>\n",
       "    </tr>\n",
       "  </thead>\n",
       "  <tbody>\n",
       "    <tr>\n",
       "      <th>USER_SESSIONS</th>\n",
       "      <td>0.053207</td>\n",
       "      <td>0.066394</td>\n",
       "      <td>NaN</td>\n",
       "    </tr>\n",
       "    <tr>\n",
       "      <th>AVERAGE_SELLING_PRICE_BY_SELLER</th>\n",
       "      <td>0.126906</td>\n",
       "      <td>0.107787</td>\n",
       "      <td>NaN</td>\n",
       "    </tr>\n",
       "    <tr>\n",
       "      <th>WINNING_BIDS</th>\n",
       "      <td>0.119014</td>\n",
       "      <td>0.114314</td>\n",
       "      <td>NaN</td>\n",
       "    </tr>\n",
       "    <tr>\n",
       "      <th>AVERAGE_PRICE_FOR_CATEGORY</th>\n",
       "      <td>0.130876</td>\n",
       "      <td>0.124461</td>\n",
       "      <td>NaN</td>\n",
       "    </tr>\n",
       "    <tr>\n",
       "      <th>SESSION_SIDE_INPUT_JOIN</th>\n",
       "      <td>0.132861</td>\n",
       "      <td>0.127716</td>\n",
       "      <td>NaN</td>\n",
       "    </tr>\n",
       "    <tr>\n",
       "      <th>PROCESSING_TIME_WINDOWS</th>\n",
       "      <td>0.291851</td>\n",
       "      <td>0.243552</td>\n",
       "      <td>NaN</td>\n",
       "    </tr>\n",
       "    <tr>\n",
       "      <th>HOT_ITEMS</th>\n",
       "      <td>0.326386</td>\n",
       "      <td>0.329970</td>\n",
       "      <td>NaN</td>\n",
       "    </tr>\n",
       "    <tr>\n",
       "      <th>MONITOR_NEW_USERS</th>\n",
       "      <td>1.180014</td>\n",
       "      <td>1.196748</td>\n",
       "      <td>NaN</td>\n",
       "    </tr>\n",
       "    <tr>\n",
       "      <th>PASSTHROUGH</th>\n",
       "      <td>1.691676</td>\n",
       "      <td>1.725795</td>\n",
       "      <td>1.993973</td>\n",
       "    </tr>\n",
       "    <tr>\n",
       "      <th>LOCAL_ITEM_SUGGESTION</th>\n",
       "      <td>2.323989</td>\n",
       "      <td>2.149232</td>\n",
       "      <td>NaN</td>\n",
       "    </tr>\n",
       "    <tr>\n",
       "      <th>CURRENCY_CONVERSION</th>\n",
       "      <td>2.240062</td>\n",
       "      <td>2.337293</td>\n",
       "      <td>2.690467</td>\n",
       "    </tr>\n",
       "    <tr>\n",
       "      <th>SELECTION</th>\n",
       "      <td>3.236059</td>\n",
       "      <td>2.975152</td>\n",
       "      <td>3.247599</td>\n",
       "    </tr>\n",
       "  </tbody>\n",
       "</table>\n",
       "</div>"
      ],
      "text/plain": [
       "coder                                AVRO      HAND      JAVA\n",
       "query                                                        \n",
       "USER_SESSIONS                    0.053207  0.066394       NaN\n",
       "AVERAGE_SELLING_PRICE_BY_SELLER  0.126906  0.107787       NaN\n",
       "WINNING_BIDS                     0.119014  0.114314       NaN\n",
       "AVERAGE_PRICE_FOR_CATEGORY       0.130876  0.124461       NaN\n",
       "SESSION_SIDE_INPUT_JOIN          0.132861  0.127716       NaN\n",
       "PROCESSING_TIME_WINDOWS          0.291851  0.243552       NaN\n",
       "HOT_ITEMS                        0.326386  0.329970       NaN\n",
       "MONITOR_NEW_USERS                1.180014  1.196748       NaN\n",
       "PASSTHROUGH                      1.691676  1.725795  1.993973\n",
       "LOCAL_ITEM_SUGGESTION            2.323989  2.149232       NaN\n",
       "CURRENCY_CONVERSION              2.240062  2.337293  2.690467\n",
       "SELECTION                        3.236059  2.975152  3.247599"
      ]
     },
     "execution_count": 12,
     "metadata": {},
     "output_type": "execute_result"
    }
   ],
   "source": [
    "jep"
   ]
  },
  {
   "cell_type": "code",
   "execution_count": 13,
   "id": "surprising-honduras",
   "metadata": {},
   "outputs": [
    {
     "data": {
      "text/plain": [
       "<AxesSubplot:ylabel='query'>"
      ]
     },
     "execution_count": 13,
     "metadata": {},
     "output_type": "execute_result"
    },
    {
     "data": {
      "image/png": "[encoded data removed]",
      "text/plain": [
       "<Figure size 2160x720 with 1 Axes>"
      ]
     },
     "metadata": {
      "needs_background": "light"
     },
     "output_type": "display_data"
    }
   ],
   "source": [
    "jep[(jep.isna() | (jep > 0)).all(axis=1)].plot(kind=\"barh\", figsize=(30,10))"
   ]
  },
  {
   "cell_type": "code",
   "execution_count": 14,
   "id": "mexican-category",
   "metadata": {},
   "outputs": [
    {
     "data": {
      "text/plain": [
       "<AxesSubplot:ylabel='query'>"
      ]
     },
     "execution_count": 14,
     "metadata": {},
     "output_type": "execute_result"
    },
    {
     "data": {
      "image/png": "[encoded data removed]",
      "text/plain": [
       "<Figure size 2160x720 with 1 Axes>"
      ]
     },
     "metadata": {
      "needs_background": "light"
     },
     "output_type": "display_data"
    }
   ],
   "source": [
    "jep[[\"HAND\", \"AVRO\"]].plot(kind=\"barh\", figsize=(30,10))"
   ]
  },
  {
   "cell_type": "markdown",
   "id": "overhead-andorra",
   "metadata": {},
   "source": [
    "Apparently the change is minimal between runners. The java serialiser only works\n",
    "for certain queries. An outlier here is the `LOCAL_ITEM_SUGGESTION` query\n",
    "where the `HAND` encoder perform a lot better.\n",
    "\n",
    "One guess is that the queries which output a lot of records in the results would\n",
    "be hit the hardest. We test this out."
   ]
  },
  {
   "cell_type": "code",
   "execution_count": 15,
   "id": "limiting-assignment",
   "metadata": {},
   "outputs": [],
   "source": [
    "results = df[\"num_results\"].groupby(\"query\").mean()"
   ]
  },
  {
   "cell_type": "code",
   "execution_count": 16,
   "id": "insured-individual",
   "metadata": {},
   "outputs": [
    {
     "data": {
      "text/plain": [
       "<AxesSubplot:ylabel='query'>"
      ]
     },
     "execution_count": 16,
     "metadata": {},
     "output_type": "execute_result"
    },
    {
     "data": {
      "image/png": "[encoded data removed]",
      "text/plain": [
       "<Figure size 2160x720 with 1 Axes>"
      ]
     },
     "metadata": {
      "needs_background": "light"
     },
     "output_type": "display_data"
    }
   ],
   "source": [
    "results.sort_values().plot(kind=\"barh\", figsize=(30,10), logx=True)"
   ]
  },
  {
   "cell_type": "markdown",
   "id": "miniature-enough",
   "metadata": {},
   "source": [
    "Based on these results, this doesn't seem to be the case. It might be number of operators?"
   ]
  },
  {
   "cell_type": "markdown",
   "id": "pretty-belle",
   "metadata": {},
   "source": [
    "The `HIGHEST_BID` takes a lot of time to run and stalles, so it has been excluded from later benchmarks."
   ]
  },
  {
   "cell_type": "markdown",
   "id": "packed-fighter",
   "metadata": {},
   "source": [
    "Since we have seen that the coders doesn't matter, let's look at just the hand coded results."
   ]
  },
  {
   "cell_type": "markdown",
   "id": "comparable-cricket",
   "metadata": {},
   "source": [
    "## Battery04: Does paralleism affect the speedup?\n",
    "\n",
    "This battery tests if the number of parallel operators change how affected the benchmark is.\n",
    "If there is no interplay here, there effect should simply be multiplied by the number of\n",
    "paralllelism."
   ]
  },
  {
   "cell_type": "code",
   "execution_count": 17,
   "id": "prostate-recipe",
   "metadata": {},
   "outputs": [],
   "source": [
    "def bat4_convert_to_df(wr):\n",
    "    df = pd.DataFrame.from_records(wr)\n",
    "    df[\"coder\"] = df[\"coder\"].astype(\"category\")\n",
    "    df[\"query\"] = df[\"query\"].astype(\"category\")\n",
    "\n",
    "    # We do some preprocessing here.\n",
    "    df = df.set_index([\"query\", \"parallelism\", \"faster_copy\", ]).sort_index()\n",
    "\n",
    "    return df"
   ]
  },
  {
   "cell_type": "code",
   "execution_count": 18,
   "id": "following-routine",
   "metadata": {},
   "outputs": [],
   "source": [
    "bat4_all = read_data(\"../results/new-res/bat04-01.json\")\n",
    "bat4_good = [wrangle(r) for r in bat4_all if r[\"Status\"] == \"OK\"]\n",
    "df =  bat4_convert_to_df(bat4_good)"
   ]
  },
  {
   "cell_type": "code",
   "execution_count": 19,
   "id": "detected-elements",
   "metadata": {},
   "outputs": [],
   "source": [
    "ef = df[\"events_per_sec\"]"
   ]
  },
  {
   "cell_type": "code",
   "execution_count": 20,
   "id": "ranging-watershed",
   "metadata": {},
   "outputs": [],
   "source": [
    "gf = ef.groupby(ef.index.names).agg(\"mean\")"
   ]
  },
  {
   "cell_type": "code",
   "execution_count": 21,
   "id": "promising-partner",
   "metadata": {},
   "outputs": [
    {
     "data": {
      "text/html": [
       "<div>\n",
       "<style scoped>\n",
       "    .dataframe tbody tr th:only-of-type {\n",
       "        vertical-align: middle;\n",
       "    }\n",
       "\n",
       "    .dataframe tbody tr th {\n",
       "        vertical-align: top;\n",
       "    }\n",
       "\n",
       "    .dataframe thead tr th {\n",
       "        text-align: left;\n",
       "    }\n",
       "\n",
       "    .dataframe thead tr:last-of-type th {\n",
       "        text-align: right;\n",
       "    }\n",
       "</style>\n",
       "<table border=\"1\" class=\"dataframe\">\n",
       "  <thead>\n",
       "    <tr>\n",
       "      <th>faster_copy</th>\n",
       "      <th colspan=\"3\" halign=\"left\">False</th>\n",
       "      <th colspan=\"3\" halign=\"left\">True</th>\n",
       "    </tr>\n",
       "    <tr>\n",
       "      <th>parallelism</th>\n",
       "      <th>1</th>\n",
       "      <th>2</th>\n",
       "      <th>4</th>\n",
       "      <th>1</th>\n",
       "      <th>2</th>\n",
       "      <th>4</th>\n",
       "    </tr>\n",
       "    <tr>\n",
       "      <th>query</th>\n",
       "      <th></th>\n",
       "      <th></th>\n",
       "      <th></th>\n",
       "      <th></th>\n",
       "      <th></th>\n",
       "      <th></th>\n",
       "    </tr>\n",
       "  </thead>\n",
       "  <tbody>\n",
       "    <tr>\n",
       "      <th>AVERAGE_PRICE_FOR_CATEGORY</th>\n",
       "      <td>10518.084374</td>\n",
       "      <td>5418.620503</td>\n",
       "      <td>5328.330261</td>\n",
       "      <td>11570.232625</td>\n",
       "      <td>7037.565054</td>\n",
       "      <td>6694.241551</td>\n",
       "    </tr>\n",
       "    <tr>\n",
       "      <th>AVERAGE_SELLING_PRICE_BY_SELLER</th>\n",
       "      <td>10556.568989</td>\n",
       "      <td>9580.462690</td>\n",
       "      <td>5204.816284</td>\n",
       "      <td>11501.627957</td>\n",
       "      <td>19603.806125</td>\n",
       "      <td>6784.276427</td>\n",
       "    </tr>\n",
       "    <tr>\n",
       "      <th>CURRENCY_CONVERSION</th>\n",
       "      <td>37216.140207</td>\n",
       "      <td>42373.952684</td>\n",
       "      <td>27999.473908</td>\n",
       "      <td>142407.566632</td>\n",
       "      <td>114216.940391</td>\n",
       "      <td>168086.115297</td>\n",
       "    </tr>\n",
       "    <tr>\n",
       "      <th>HOT_ITEMS</th>\n",
       "      <td>29400.258101</td>\n",
       "      <td>13907.254566</td>\n",
       "      <td>14423.697988</td>\n",
       "      <td>40227.171323</td>\n",
       "      <td>22656.255686</td>\n",
       "      <td>19677.136047</td>\n",
       "    </tr>\n",
       "    <tr>\n",
       "      <th>LOCAL_ITEM_SUGGESTION</th>\n",
       "      <td>60207.687546</td>\n",
       "      <td>34546.651939</td>\n",
       "      <td>33275.255664</td>\n",
       "      <td>317017.291213</td>\n",
       "      <td>218693.478838</td>\n",
       "      <td>221169.422449</td>\n",
       "    </tr>\n",
       "    <tr>\n",
       "      <th>MONITOR_NEW_USERS</th>\n",
       "      <td>56567.357337</td>\n",
       "      <td>103517.095356</td>\n",
       "      <td>33608.174443</td>\n",
       "      <td>250574.646007</td>\n",
       "      <td>373244.382090</td>\n",
       "      <td>126784.139755</td>\n",
       "    </tr>\n",
       "    <tr>\n",
       "      <th>PASSTHROUGH</th>\n",
       "      <td>34169.903213</td>\n",
       "      <td>62284.515143</td>\n",
       "      <td>25833.510471</td>\n",
       "      <td>103600.121773</td>\n",
       "      <td>184522.051640</td>\n",
       "      <td>106937.974486</td>\n",
       "    </tr>\n",
       "    <tr>\n",
       "      <th>PROCESSING_TIME_WINDOWS</th>\n",
       "      <td>55657.958752</td>\n",
       "      <td>24548.405916</td>\n",
       "      <td>24605.409307</td>\n",
       "      <td>60212.649747</td>\n",
       "      <td>36957.765649</td>\n",
       "      <td>28302.130697</td>\n",
       "    </tr>\n",
       "    <tr>\n",
       "      <th>SELECTION</th>\n",
       "      <td>65368.728006</td>\n",
       "      <td>50467.957058</td>\n",
       "      <td>48621.363984</td>\n",
       "      <td>380159.981482</td>\n",
       "      <td>352027.896510</td>\n",
       "      <td>180466.805421</td>\n",
       "    </tr>\n",
       "    <tr>\n",
       "      <th>SESSION_SIDE_INPUT_JOIN</th>\n",
       "      <td>12309.495415</td>\n",
       "      <td>7134.293086</td>\n",
       "      <td>6837.849202</td>\n",
       "      <td>13688.759439</td>\n",
       "      <td>9021.022617</td>\n",
       "      <td>8643.880383</td>\n",
       "    </tr>\n",
       "    <tr>\n",
       "      <th>USER_SESSIONS</th>\n",
       "      <td>19645.967779</td>\n",
       "      <td>10140.844863</td>\n",
       "      <td>9576.881753</td>\n",
       "      <td>20240.064368</td>\n",
       "      <td>12480.208360</td>\n",
       "      <td>12150.305378</td>\n",
       "    </tr>\n",
       "    <tr>\n",
       "      <th>WINNING_BIDS</th>\n",
       "      <td>10539.574124</td>\n",
       "      <td>7475.405830</td>\n",
       "      <td>5316.521699</td>\n",
       "      <td>11611.639568</td>\n",
       "      <td>7032.153380</td>\n",
       "      <td>6840.153204</td>\n",
       "    </tr>\n",
       "  </tbody>\n",
       "</table>\n",
       "</div>"
      ],
      "text/plain": [
       "faster_copy                             False                               \\\n",
       "parallelism                                 1              2             4   \n",
       "query                                                                        \n",
       "AVERAGE_PRICE_FOR_CATEGORY       10518.084374    5418.620503   5328.330261   \n",
       "AVERAGE_SELLING_PRICE_BY_SELLER  10556.568989    9580.462690   5204.816284   \n",
       "CURRENCY_CONVERSION              37216.140207   42373.952684  27999.473908   \n",
       "HOT_ITEMS                        29400.258101   13907.254566  14423.697988   \n",
       "LOCAL_ITEM_SUGGESTION            60207.687546   34546.651939  33275.255664   \n",
       "MONITOR_NEW_USERS                56567.357337  103517.095356  33608.174443   \n",
       "PASSTHROUGH                      34169.903213   62284.515143  25833.510471   \n",
       "PROCESSING_TIME_WINDOWS          55657.958752   24548.405916  24605.409307   \n",
       "SELECTION                        65368.728006   50467.957058  48621.363984   \n",
       "SESSION_SIDE_INPUT_JOIN          12309.495415    7134.293086   6837.849202   \n",
       "USER_SESSIONS                    19645.967779   10140.844863   9576.881753   \n",
       "WINNING_BIDS                     10539.574124    7475.405830   5316.521699   \n",
       "\n",
       "faster_copy                              True                                 \n",
       "parallelism                                  1              2              4  \n",
       "query                                                                         \n",
       "AVERAGE_PRICE_FOR_CATEGORY        11570.232625    7037.565054    6694.241551  \n",
       "AVERAGE_SELLING_PRICE_BY_SELLER   11501.627957   19603.806125    6784.276427  \n",
       "CURRENCY_CONVERSION              142407.566632  114216.940391  168086.115297  \n",
       "HOT_ITEMS                         40227.171323   22656.255686   19677.136047  \n",
       "LOCAL_ITEM_SUGGESTION            317017.291213  218693.478838  221169.422449  \n",
       "MONITOR_NEW_USERS                250574.646007  373244.382090  126784.139755  \n",
       "PASSTHROUGH                      103600.121773  184522.051640  106937.974486  \n",
       "PROCESSING_TIME_WINDOWS           60212.649747   36957.765649   28302.130697  \n",
       "SELECTION                        380159.981482  352027.896510  180466.805421  \n",
       "SESSION_SIDE_INPUT_JOIN           13688.759439    9021.022617    8643.880383  \n",
       "USER_SESSIONS                     20240.064368   12480.208360   12150.305378  \n",
       "WINNING_BIDS                      11611.639568    7032.153380    6840.153204  "
      ]
     },
     "execution_count": 21,
     "metadata": {},
     "output_type": "execute_result"
    }
   ],
   "source": [
    "gf.unstack().unstack()"
   ]
  },
  {
   "cell_type": "code",
   "execution_count": 22,
   "id": "usual-robertson",
   "metadata": {},
   "outputs": [
    {
     "data": {
      "text/html": [
       "<div>\n",
       "<style scoped>\n",
       "    .dataframe tbody tr th:only-of-type {\n",
       "        vertical-align: middle;\n",
       "    }\n",
       "\n",
       "    .dataframe tbody tr th {\n",
       "        vertical-align: top;\n",
       "    }\n",
       "\n",
       "    .dataframe thead tr th {\n",
       "        text-align: left;\n",
       "    }\n",
       "\n",
       "    .dataframe thead tr:last-of-type th {\n",
       "        text-align: right;\n",
       "    }\n",
       "</style>\n",
       "<table border=\"1\" class=\"dataframe\">\n",
       "  <thead>\n",
       "    <tr>\n",
       "      <th></th>\n",
       "      <th colspan=\"2\" halign=\"left\">2/1</th>\n",
       "      <th colspan=\"2\" halign=\"left\">4/2</th>\n",
       "      <th colspan=\"2\" halign=\"left\">4/1</th>\n",
       "    </tr>\n",
       "    <tr>\n",
       "      <th>faster_copy</th>\n",
       "      <th>False</th>\n",
       "      <th>True</th>\n",
       "      <th>False</th>\n",
       "      <th>True</th>\n",
       "      <th>False</th>\n",
       "      <th>True</th>\n",
       "    </tr>\n",
       "    <tr>\n",
       "      <th>query</th>\n",
       "      <th></th>\n",
       "      <th></th>\n",
       "      <th></th>\n",
       "      <th></th>\n",
       "      <th></th>\n",
       "      <th></th>\n",
       "    </tr>\n",
       "  </thead>\n",
       "  <tbody>\n",
       "    <tr>\n",
       "      <th>AVERAGE_PRICE_FOR_CATEGORY</th>\n",
       "      <td>-0.484828</td>\n",
       "      <td>-0.391753</td>\n",
       "      <td>-0.016663</td>\n",
       "      <td>-0.048784</td>\n",
       "      <td>-0.493412</td>\n",
       "      <td>-0.421426</td>\n",
       "    </tr>\n",
       "    <tr>\n",
       "      <th>AVERAGE_SELLING_PRICE_BY_SELLER</th>\n",
       "      <td>-0.092464</td>\n",
       "      <td>0.704438</td>\n",
       "      <td>-0.456726</td>\n",
       "      <td>-0.653931</td>\n",
       "      <td>-0.506959</td>\n",
       "      <td>-0.410146</td>\n",
       "    </tr>\n",
       "    <tr>\n",
       "      <th>CURRENCY_CONVERSION</th>\n",
       "      <td>0.138591</td>\n",
       "      <td>-0.197957</td>\n",
       "      <td>-0.339229</td>\n",
       "      <td>0.471639</td>\n",
       "      <td>-0.247652</td>\n",
       "      <td>0.180317</td>\n",
       "    </tr>\n",
       "    <tr>\n",
       "      <th>HOT_ITEMS</th>\n",
       "      <td>-0.526968</td>\n",
       "      <td>-0.436792</td>\n",
       "      <td>0.037135</td>\n",
       "      <td>-0.131492</td>\n",
       "      <td>-0.509402</td>\n",
       "      <td>-0.510850</td>\n",
       "    </tr>\n",
       "    <tr>\n",
       "      <th>LOCAL_ITEM_SUGGESTION</th>\n",
       "      <td>-0.426209</td>\n",
       "      <td>-0.310153</td>\n",
       "      <td>-0.036802</td>\n",
       "      <td>0.011322</td>\n",
       "      <td>-0.447325</td>\n",
       "      <td>-0.302343</td>\n",
       "    </tr>\n",
       "    <tr>\n",
       "      <th>MONITOR_NEW_USERS</th>\n",
       "      <td>0.829979</td>\n",
       "      <td>0.489554</td>\n",
       "      <td>-0.675337</td>\n",
       "      <td>-0.660319</td>\n",
       "      <td>-0.405873</td>\n",
       "      <td>-0.494026</td>\n",
       "    </tr>\n",
       "    <tr>\n",
       "      <th>PASSTHROUGH</th>\n",
       "      <td>0.822789</td>\n",
       "      <td>0.781099</td>\n",
       "      <td>-0.585234</td>\n",
       "      <td>-0.420460</td>\n",
       "      <td>-0.243969</td>\n",
       "      <td>0.032219</td>\n",
       "    </tr>\n",
       "    <tr>\n",
       "      <th>PROCESSING_TIME_WINDOWS</th>\n",
       "      <td>-0.558942</td>\n",
       "      <td>-0.386213</td>\n",
       "      <td>0.002322</td>\n",
       "      <td>-0.234203</td>\n",
       "      <td>-0.557918</td>\n",
       "      <td>-0.529964</td>\n",
       "    </tr>\n",
       "    <tr>\n",
       "      <th>SELECTION</th>\n",
       "      <td>-0.227950</td>\n",
       "      <td>-0.074001</td>\n",
       "      <td>-0.036589</td>\n",
       "      <td>-0.487351</td>\n",
       "      <td>-0.256198</td>\n",
       "      <td>-0.525287</td>\n",
       "    </tr>\n",
       "    <tr>\n",
       "      <th>SESSION_SIDE_INPUT_JOIN</th>\n",
       "      <td>-0.420424</td>\n",
       "      <td>-0.340990</td>\n",
       "      <td>-0.041552</td>\n",
       "      <td>-0.041807</td>\n",
       "      <td>-0.444506</td>\n",
       "      <td>-0.368542</td>\n",
       "    </tr>\n",
       "    <tr>\n",
       "      <th>USER_SESSIONS</th>\n",
       "      <td>-0.483821</td>\n",
       "      <td>-0.383391</td>\n",
       "      <td>-0.055613</td>\n",
       "      <td>-0.026434</td>\n",
       "      <td>-0.512527</td>\n",
       "      <td>-0.399690</td>\n",
       "    </tr>\n",
       "    <tr>\n",
       "      <th>WINNING_BIDS</th>\n",
       "      <td>-0.290730</td>\n",
       "      <td>-0.394388</td>\n",
       "      <td>-0.288798</td>\n",
       "      <td>-0.027303</td>\n",
       "      <td>-0.495566</td>\n",
       "      <td>-0.410923</td>\n",
       "    </tr>\n",
       "  </tbody>\n",
       "</table>\n",
       "</div>"
      ],
      "text/plain": [
       "                                      2/1                 4/2            \\\n",
       "faster_copy                         False     True      False     True    \n",
       "query                                                                     \n",
       "AVERAGE_PRICE_FOR_CATEGORY      -0.484828 -0.391753 -0.016663 -0.048784   \n",
       "AVERAGE_SELLING_PRICE_BY_SELLER -0.092464  0.704438 -0.456726 -0.653931   \n",
       "CURRENCY_CONVERSION              0.138591 -0.197957 -0.339229  0.471639   \n",
       "HOT_ITEMS                       -0.526968 -0.436792  0.037135 -0.131492   \n",
       "LOCAL_ITEM_SUGGESTION           -0.426209 -0.310153 -0.036802  0.011322   \n",
       "MONITOR_NEW_USERS                0.829979  0.489554 -0.675337 -0.660319   \n",
       "PASSTHROUGH                      0.822789  0.781099 -0.585234 -0.420460   \n",
       "PROCESSING_TIME_WINDOWS         -0.558942 -0.386213  0.002322 -0.234203   \n",
       "SELECTION                       -0.227950 -0.074001 -0.036589 -0.487351   \n",
       "SESSION_SIDE_INPUT_JOIN         -0.420424 -0.340990 -0.041552 -0.041807   \n",
       "USER_SESSIONS                   -0.483821 -0.383391 -0.055613 -0.026434   \n",
       "WINNING_BIDS                    -0.290730 -0.394388 -0.288798 -0.027303   \n",
       "\n",
       "                                      4/1            \n",
       "faster_copy                         False     True   \n",
       "query                                                \n",
       "AVERAGE_PRICE_FOR_CATEGORY      -0.493412 -0.421426  \n",
       "AVERAGE_SELLING_PRICE_BY_SELLER -0.506959 -0.410146  \n",
       "CURRENCY_CONVERSION             -0.247652  0.180317  \n",
       "HOT_ITEMS                       -0.509402 -0.510850  \n",
       "LOCAL_ITEM_SUGGESTION           -0.447325 -0.302343  \n",
       "MONITOR_NEW_USERS               -0.405873 -0.494026  \n",
       "PASSTHROUGH                     -0.243969  0.032219  \n",
       "PROCESSING_TIME_WINDOWS         -0.557918 -0.529964  \n",
       "SELECTION                       -0.256198 -0.525287  \n",
       "SESSION_SIDE_INPUT_JOIN         -0.444506 -0.368542  \n",
       "USER_SESSIONS                   -0.512527 -0.399690  \n",
       "WINNING_BIDS                    -0.495566 -0.410923  "
      ]
     },
     "execution_count": 22,
     "metadata": {},
     "output_type": "execute_result"
    }
   ],
   "source": [
    "# Find reduced events per second as the parallelism decreases\n",
    "two_to_one = gf.xs(2, level=1) / gf.xs(1, level=1)\n",
    "four_to_two = gf.xs(4, level=1) / gf.xs(2, level=1)\n",
    "four_to_one = gf.xs(4, level=1) / gf.xs(1, level=1)\n",
    "fff = pd.concat([two_to_one.rename(\"2/1\"), four_to_two.rename(\"4/2\"), four_to_one.rename(\"4/1\")], axis=1).unstack()\n",
    "fff - 1\n",
    "#fff = fff.unstack().swaplevel(axis=1)\n",
    "#fff.reindex(sorted(fff.columns), axis=1)"
   ]
  },
  {
   "cell_type": "code",
   "execution_count": 23,
   "id": "basic-dictionary",
   "metadata": {},
   "outputs": [],
   "source": [
    "lf = gf.xs(True, level=2) / gf.xs(False, level=2)"
   ]
  },
  {
   "cell_type": "code",
   "execution_count": 24,
   "id": "thirty-ratio",
   "metadata": {},
   "outputs": [],
   "source": [
    "jf = lf.unstack()"
   ]
  },
  {
   "cell_type": "code",
   "execution_count": 25,
   "id": "positive-insert",
   "metadata": {},
   "outputs": [
    {
     "data": {
      "text/html": [
       "<div>\n",
       "<style scoped>\n",
       "    .dataframe tbody tr th:only-of-type {\n",
       "        vertical-align: middle;\n",
       "    }\n",
       "\n",
       "    .dataframe tbody tr th {\n",
       "        vertical-align: top;\n",
       "    }\n",
       "\n",
       "    .dataframe thead th {\n",
       "        text-align: right;\n",
       "    }\n",
       "</style>\n",
       "<table border=\"1\" class=\"dataframe\">\n",
       "  <thead>\n",
       "    <tr style=\"text-align: right;\">\n",
       "      <th>parallelism</th>\n",
       "      <th>1</th>\n",
       "      <th>2</th>\n",
       "      <th>4</th>\n",
       "    </tr>\n",
       "    <tr>\n",
       "      <th>query</th>\n",
       "      <th></th>\n",
       "      <th></th>\n",
       "      <th></th>\n",
       "    </tr>\n",
       "  </thead>\n",
       "  <tbody>\n",
       "    <tr>\n",
       "      <th>AVERAGE_PRICE_FOR_CATEGORY</th>\n",
       "      <td>10.003231</td>\n",
       "      <td>29.877430</td>\n",
       "      <td>25.634884</td>\n",
       "    </tr>\n",
       "    <tr>\n",
       "      <th>AVERAGE_SELLING_PRICE_BY_SELLER</th>\n",
       "      <td>8.952331</td>\n",
       "      <td>104.622749</td>\n",
       "      <td>30.346127</td>\n",
       "    </tr>\n",
       "    <tr>\n",
       "      <th>CURRENCY_CONVERSION</th>\n",
       "      <td>282.650016</td>\n",
       "      <td>169.545164</td>\n",
       "      <td>500.318834</td>\n",
       "    </tr>\n",
       "    <tr>\n",
       "      <th>HOT_ITEMS</th>\n",
       "      <td>36.825912</td>\n",
       "      <td>62.909621</td>\n",
       "      <td>36.422269</td>\n",
       "    </tr>\n",
       "    <tr>\n",
       "      <th>LOCAL_ITEM_SUGGESTION</th>\n",
       "      <td>426.539557</td>\n",
       "      <td>533.038128</td>\n",
       "      <td>564.666335</td>\n",
       "    </tr>\n",
       "    <tr>\n",
       "      <th>MONITOR_NEW_USERS</th>\n",
       "      <td>342.966859</td>\n",
       "      <td>260.563036</td>\n",
       "      <td>277.241971</td>\n",
       "    </tr>\n",
       "    <tr>\n",
       "      <th>PASSTHROUGH</th>\n",
       "      <td>203.191148</td>\n",
       "      <td>196.256704</td>\n",
       "      <td>313.950611</td>\n",
       "    </tr>\n",
       "    <tr>\n",
       "      <th>PROCESSING_TIME_WINDOWS</th>\n",
       "      <td>8.183360</td>\n",
       "      <td>50.550573</td>\n",
       "      <td>15.024019</td>\n",
       "    </tr>\n",
       "    <tr>\n",
       "      <th>SELECTION</th>\n",
       "      <td>481.562458</td>\n",
       "      <td>597.527534</td>\n",
       "      <td>271.167714</td>\n",
       "    </tr>\n",
       "    <tr>\n",
       "      <th>SESSION_SIDE_INPUT_JOIN</th>\n",
       "      <td>11.204879</td>\n",
       "      <td>26.445921</td>\n",
       "      <td>26.412270</td>\n",
       "    </tr>\n",
       "    <tr>\n",
       "      <th>USER_SESSIONS</th>\n",
       "      <td>3.024013</td>\n",
       "      <td>23.068724</td>\n",
       "      <td>26.871206</td>\n",
       "    </tr>\n",
       "    <tr>\n",
       "      <th>WINNING_BIDS</th>\n",
       "      <td>10.171810</td>\n",
       "      <td>-5.929477</td>\n",
       "      <td>28.658427</td>\n",
       "    </tr>\n",
       "  </tbody>\n",
       "</table>\n",
       "</div>"
      ],
      "text/plain": [
       "parallelism                               1           2           4\n",
       "query                                                              \n",
       "AVERAGE_PRICE_FOR_CATEGORY        10.003231   29.877430   25.634884\n",
       "AVERAGE_SELLING_PRICE_BY_SELLER    8.952331  104.622749   30.346127\n",
       "CURRENCY_CONVERSION              282.650016  169.545164  500.318834\n",
       "HOT_ITEMS                         36.825912   62.909621   36.422269\n",
       "LOCAL_ITEM_SUGGESTION            426.539557  533.038128  564.666335\n",
       "MONITOR_NEW_USERS                342.966859  260.563036  277.241971\n",
       "PASSTHROUGH                      203.191148  196.256704  313.950611\n",
       "PROCESSING_TIME_WINDOWS            8.183360   50.550573   15.024019\n",
       "SELECTION                        481.562458  597.527534  271.167714\n",
       "SESSION_SIDE_INPUT_JOIN           11.204879   26.445921   26.412270\n",
       "USER_SESSIONS                      3.024013   23.068724   26.871206\n",
       "WINNING_BIDS                      10.171810   -5.929477   28.658427"
      ]
     },
     "execution_count": 25,
     "metadata": {},
     "output_type": "execute_result"
    }
   ],
   "source": [
    "(jf - 1) * 100"
   ]
  },
  {
   "cell_type": "code",
   "execution_count": 26,
   "id": "southeast-harris",
   "metadata": {},
   "outputs": [
    {
     "data": {
      "text/html": [
       "<div>\n",
       "<style scoped>\n",
       "    .dataframe tbody tr th:only-of-type {\n",
       "        vertical-align: middle;\n",
       "    }\n",
       "\n",
       "    .dataframe tbody tr th {\n",
       "        vertical-align: top;\n",
       "    }\n",
       "\n",
       "    .dataframe thead th {\n",
       "        text-align: right;\n",
       "    }\n",
       "</style>\n",
       "<table border=\"1\" class=\"dataframe\">\n",
       "  <thead>\n",
       "    <tr style=\"text-align: right;\">\n",
       "      <th></th>\n",
       "      <th>2/1</th>\n",
       "      <th>4/2</th>\n",
       "    </tr>\n",
       "    <tr>\n",
       "      <th>query</th>\n",
       "      <th></th>\n",
       "      <th></th>\n",
       "    </tr>\n",
       "  </thead>\n",
       "  <tbody>\n",
       "    <tr>\n",
       "      <th>AVERAGE_PRICE_FOR_CATEGORY</th>\n",
       "      <td>1.180669</td>\n",
       "      <td>0.967334</td>\n",
       "    </tr>\n",
       "    <tr>\n",
       "      <th>AVERAGE_SELLING_PRICE_BY_SELLER</th>\n",
       "      <td>1.878094</td>\n",
       "      <td>0.637007</td>\n",
       "    </tr>\n",
       "    <tr>\n",
       "      <th>CURRENCY_CONVERSION</th>\n",
       "      <td>0.704417</td>\n",
       "      <td>2.227155</td>\n",
       "    </tr>\n",
       "    <tr>\n",
       "      <th>HOT_ITEMS</th>\n",
       "      <td>1.190634</td>\n",
       "      <td>0.837411</td>\n",
       "    </tr>\n",
       "    <tr>\n",
       "      <th>LOCAL_ITEM_SUGGESTION</th>\n",
       "      <td>1.202261</td>\n",
       "      <td>1.049963</td>\n",
       "    </tr>\n",
       "    <tr>\n",
       "      <th>MONITOR_NEW_USERS</th>\n",
       "      <td>0.813973</td>\n",
       "      <td>1.046258</td>\n",
       "    </tr>\n",
       "    <tr>\n",
       "      <th>PASSTHROUGH</th>\n",
       "      <td>0.977128</td>\n",
       "      <td>1.397270</td>\n",
       "    </tr>\n",
       "    <tr>\n",
       "      <th>PROCESSING_TIME_WINDOWS</th>\n",
       "      <td>1.391624</td>\n",
       "      <td>0.764022</td>\n",
       "    </tr>\n",
       "    <tr>\n",
       "      <th>SELECTION</th>\n",
       "      <td>1.199403</td>\n",
       "      <td>0.532119</td>\n",
       "    </tr>\n",
       "    <tr>\n",
       "      <th>SESSION_SIDE_INPUT_JOIN</th>\n",
       "      <td>1.137054</td>\n",
       "      <td>0.999734</td>\n",
       "    </tr>\n",
       "    <tr>\n",
       "      <th>USER_SESSIONS</th>\n",
       "      <td>1.194563</td>\n",
       "      <td>1.030897</td>\n",
       "    </tr>\n",
       "    <tr>\n",
       "      <th>WINNING_BIDS</th>\n",
       "      <td>0.853853</td>\n",
       "      <td>1.367681</td>\n",
       "    </tr>\n",
       "  </tbody>\n",
       "</table>\n",
       "</div>"
      ],
      "text/plain": [
       "                                      2/1       4/2\n",
       "query                                              \n",
       "AVERAGE_PRICE_FOR_CATEGORY       1.180669  0.967334\n",
       "AVERAGE_SELLING_PRICE_BY_SELLER  1.878094  0.637007\n",
       "CURRENCY_CONVERSION              0.704417  2.227155\n",
       "HOT_ITEMS                        1.190634  0.837411\n",
       "LOCAL_ITEM_SUGGESTION            1.202261  1.049963\n",
       "MONITOR_NEW_USERS                0.813973  1.046258\n",
       "PASSTHROUGH                      0.977128  1.397270\n",
       "PROCESSING_TIME_WINDOWS          1.391624  0.764022\n",
       "SELECTION                        1.199403  0.532119\n",
       "SESSION_SIDE_INPUT_JOIN          1.137054  0.999734\n",
       "USER_SESSIONS                    1.194563  1.030897\n",
       "WINNING_BIDS                     0.853853  1.367681"
      ]
     },
     "execution_count": 26,
     "metadata": {},
     "output_type": "execute_result"
    }
   ],
   "source": [
    "gg = pd.concat([(jf[2] / jf[1]).rename(\"2/1\"), (jf[4] / jf[2]).rename(\"4/2\")], axis=1, names=[\"2/1\", \"4/2\"])\n",
    "gg"
   ]
  },
  {
   "cell_type": "markdown",
   "id": "relevant-angle",
   "metadata": {},
   "source": [
    "## Battery05: Does record size matter?\n",
    "\n",
    "Change the size of the events to see if it has any effect. The idea is that\n",
    "since the flink runner needs to marshal and unmarshal more.\n",
    "\n",
    "The idea is to run adjust the bid size and use the currency converter as\n",
    "it takes bids in and returns bids out."
   ]
  },
  {
   "cell_type": "code",
   "execution_count": 27,
   "id": "natural-miniature",
   "metadata": {},
   "outputs": [],
   "source": [
    "def bat5_convert_to_df(wr):\n",
    "    df = pd.DataFrame.from_records(wr)\n",
    "    df[\"coder\"] = df[\"coder\"].astype(\"category\")\n",
    "    df[\"query\"] = df[\"query\"].astype(\"category\")\n",
    "\n",
    "    # We do some preprocessing here.\n",
    "    df = df.set_index([\"avg_bid_size\", \"faster_copy\"]).sort_index()\n",
    "\n",
    "    return df"
   ]
  },
  {
   "cell_type": "code",
   "execution_count": 37,
   "id": "legal-investigator",
   "metadata": {},
   "outputs": [],
   "source": [
    "bat5_all = read_data(\"../results/new-res/bat05-02.json\")\n",
    "bat5_good = [wrangle(r) for r in bat5_all if r[\"Status\"] == \"OK\"]\n",
    "df =  bat5_convert_to_df(bat5_good)"
   ]
  },
  {
   "cell_type": "code",
   "execution_count": 68,
   "id": "defined-carnival",
   "metadata": {},
   "outputs": [
    {
     "data": {
      "text/plain": [
       "<AxesSubplot:xlabel='Avg Bid Size', ylabel='Events Per Second'>"
      ]
     },
     "execution_count": 68,
     "metadata": {},
     "output_type": "execute_result"
    },
    {
     "data": {
      "image/png": "[encoded data removed]",
      "text/plain": [
       "<Figure size 1440x1008 with 1 Axes>"
      ]
     },
     "metadata": {
      "needs_background": "light"
     },
     "output_type": "display_data"
    }
   ],
   "source": [
    "df.groupby([\"avg_bid_size\", \"faster_copy\"]).mean()[\"events_per_sec\"].unstack().plot(figsize=(20,14), xlabel=\"Avg Bid Size\", ylabel=\"Events Per Second\")"
   ]
  },
  {
   "cell_type": "code",
   "execution_count": 29,
   "id": "incorporate-burton",
   "metadata": {},
   "outputs": [],
   "source": [
    "kk = df[\"events_per_sec\"].xs(True, level=1) / df[\"events_per_sec\"].xs(False, level=1)"
   ]
  },
  {
   "cell_type": "code",
   "execution_count": 30,
   "id": "distinct-housing",
   "metadata": {},
   "outputs": [
    {
     "data": {
      "text/plain": [
       "<AxesSubplot:xlabel='avg_bid_size'>"
      ]
     },
     "execution_count": 30,
     "metadata": {},
     "output_type": "execute_result"
    },
    {
     "data": {
      "image/png": "[encoded data removed]",
      "text/plain": [
       "<Figure size 2160x720 with 1 Axes>"
      ]
     },
     "metadata": {
      "needs_background": "light"
     },
     "output_type": "display_data"
    }
   ],
   "source": [
    "kk.groupby(\"avg_bid_size\").mean().plot(figsize=(30,10))"
   ]
  },
  {
   "cell_type": "markdown",
   "id": "homeless-stations",
   "metadata": {},
   "source": [
    "Here it seems there is some increase, but it is minimal. The size has increased 10x fold, but the ratio has not\n",
    "We are running the queries with more stances now.\n",
    "\n",
    "Running with more seems to bear out the same conclusion, that it didn't really change much. This hints at the fact that the\n",
    "bid size doesn't really have a say."
   ]
  },
  {
   "cell_type": "code",
   "execution_count": 31,
   "id": "artificial-keyboard",
   "metadata": {},
   "outputs": [],
   "source": [
    "bb = df[\"event_bytes_per_sec\"].xs(True, level=1) / df[\"event_bytes_per_sec\"].xs(False, level=1)"
   ]
  },
  {
   "cell_type": "code",
   "execution_count": 32,
   "id": "minimal-oklahoma",
   "metadata": {},
   "outputs": [
    {
     "data": {
      "text/plain": [
       "<AxesSubplot:xlabel='avg_bid_size'>"
      ]
     },
     "execution_count": 32,
     "metadata": {},
     "output_type": "execute_result"
    },
    {
     "data": {
      "image/png": "[encoded data removed]",
      "text/plain": [
       "<Figure size 432x288 with 1 Axes>"
      ]
     },
     "metadata": {
      "needs_background": "light"
     },
     "output_type": "display_data"
    }
   ],
   "source": [
    "bb.groupby(\"avg_bid_size\").median().plot()"
   ]
  },
  {
   "cell_type": "code",
   "execution_count": 33,
   "id": "ecological-negative",
   "metadata": {},
   "outputs": [
    {
     "data": {
      "text/html": [
       "<div>\n",
       "<style scoped>\n",
       "    .dataframe tbody tr th:only-of-type {\n",
       "        vertical-align: middle;\n",
       "    }\n",
       "\n",
       "    .dataframe tbody tr th {\n",
       "        vertical-align: top;\n",
       "    }\n",
       "\n",
       "    .dataframe thead th {\n",
       "        text-align: right;\n",
       "    }\n",
       "</style>\n",
       "<table border=\"1\" class=\"dataframe\">\n",
       "  <thead>\n",
       "    <tr style=\"text-align: right;\">\n",
       "      <th></th>\n",
       "      <th></th>\n",
       "      <th>query</th>\n",
       "      <th>num_events</th>\n",
       "      <th>num_results</th>\n",
       "      <th>events_per_sec</th>\n",
       "      <th>results_per_sec</th>\n",
       "      <th>runtime_sec</th>\n",
       "      <th>event_bytes_per_sec</th>\n",
       "      <th>result_bytes_per_sec</th>\n",
       "      <th>coder</th>\n",
       "      <th>avg_auction_size</th>\n",
       "      <th>avg_person_size</th>\n",
       "      <th>parallelism</th>\n",
       "    </tr>\n",
       "    <tr>\n",
       "      <th>avg_bid_size</th>\n",
       "      <th>faster_copy</th>\n",
       "      <th></th>\n",
       "      <th></th>\n",
       "      <th></th>\n",
       "      <th></th>\n",
       "      <th></th>\n",
       "      <th></th>\n",
       "      <th></th>\n",
       "      <th></th>\n",
       "      <th></th>\n",
       "      <th></th>\n",
       "      <th></th>\n",
       "      <th></th>\n",
       "    </tr>\n",
       "  </thead>\n",
       "  <tbody>\n",
       "    <tr>\n",
       "      <th rowspan=\"5\" valign=\"top\">100</th>\n",
       "      <th>False</th>\n",
       "      <td>CURRENCY_CONVERSION</td>\n",
       "      <td>4958415</td>\n",
       "      <td>4561739</td>\n",
       "      <td>136731.055592</td>\n",
       "      <td>125792.493933</td>\n",
       "      <td>36.264</td>\n",
       "      <td>1.755097e+07</td>\n",
       "      <td>1.264188e+07</td>\n",
       "      <td>HAND</td>\n",
       "      <td>500</td>\n",
       "      <td>200</td>\n",
       "      <td>4</td>\n",
       "    </tr>\n",
       "    <tr>\n",
       "      <th>False</th>\n",
       "      <td>CURRENCY_CONVERSION</td>\n",
       "      <td>4958415</td>\n",
       "      <td>4561739</td>\n",
       "      <td>110772.865377</td>\n",
       "      <td>101910.973594</td>\n",
       "      <td>44.762</td>\n",
       "      <td>1.421895e+07</td>\n",
       "      <td>1.024184e+07</td>\n",
       "      <td>HAND</td>\n",
       "      <td>500</td>\n",
       "      <td>200</td>\n",
       "      <td>4</td>\n",
       "    </tr>\n",
       "    <tr>\n",
       "      <th>False</th>\n",
       "      <td>CURRENCY_CONVERSION</td>\n",
       "      <td>4958415</td>\n",
       "      <td>4561739</td>\n",
       "      <td>124661.596480</td>\n",
       "      <td>114688.598366</td>\n",
       "      <td>39.775</td>\n",
       "      <td>1.600172e+07</td>\n",
       "      <td>1.152596e+07</td>\n",
       "      <td>HAND</td>\n",
       "      <td>500</td>\n",
       "      <td>200</td>\n",
       "      <td>4</td>\n",
       "    </tr>\n",
       "    <tr>\n",
       "      <th>False</th>\n",
       "      <td>CURRENCY_CONVERSION</td>\n",
       "      <td>4958415</td>\n",
       "      <td>4561739</td>\n",
       "      <td>118268.694097</td>\n",
       "      <td>108807.131783</td>\n",
       "      <td>41.925</td>\n",
       "      <td>1.518112e+07</td>\n",
       "      <td>1.093489e+07</td>\n",
       "      <td>HAND</td>\n",
       "      <td>500</td>\n",
       "      <td>200</td>\n",
       "      <td>4</td>\n",
       "    </tr>\n",
       "    <tr>\n",
       "      <th>False</th>\n",
       "      <td>CURRENCY_CONVERSION</td>\n",
       "      <td>4958415</td>\n",
       "      <td>4561739</td>\n",
       "      <td>26531.052860</td>\n",
       "      <td>24408.553649</td>\n",
       "      <td>186.891</td>\n",
       "      <td>3.405560e+06</td>\n",
       "      <td>2.453008e+06</td>\n",
       "      <td>HAND</td>\n",
       "      <td>500</td>\n",
       "      <td>200</td>\n",
       "      <td>4</td>\n",
       "    </tr>\n",
       "    <tr>\n",
       "      <th>...</th>\n",
       "      <th>...</th>\n",
       "      <td>...</td>\n",
       "      <td>...</td>\n",
       "      <td>...</td>\n",
       "      <td>...</td>\n",
       "      <td>...</td>\n",
       "      <td>...</td>\n",
       "      <td>...</td>\n",
       "      <td>...</td>\n",
       "      <td>...</td>\n",
       "      <td>...</td>\n",
       "      <td>...</td>\n",
       "      <td>...</td>\n",
       "    </tr>\n",
       "    <tr>\n",
       "      <th rowspan=\"5\" valign=\"top\">9900</th>\n",
       "      <th>True</th>\n",
       "      <td>CURRENCY_CONVERSION</td>\n",
       "      <td>4958415</td>\n",
       "      <td>4561739</td>\n",
       "      <td>6992.241208</td>\n",
       "      <td>6432.857963</td>\n",
       "      <td>709.131</td>\n",
       "      <td>6.393893e+07</td>\n",
       "      <td>6.368789e+07</td>\n",
       "      <td>HAND</td>\n",
       "      <td>500</td>\n",
       "      <td>200</td>\n",
       "      <td>4</td>\n",
       "    </tr>\n",
       "    <tr>\n",
       "      <th>True</th>\n",
       "      <td>CURRENCY_CONVERSION</td>\n",
       "      <td>4958415</td>\n",
       "      <td>4561739</td>\n",
       "      <td>7203.334060</td>\n",
       "      <td>6627.063267</td>\n",
       "      <td>688.350</td>\n",
       "      <td>6.586922e+07</td>\n",
       "      <td>6.561060e+07</td>\n",
       "      <td>HAND</td>\n",
       "      <td>500</td>\n",
       "      <td>200</td>\n",
       "      <td>4</td>\n",
       "    </tr>\n",
       "    <tr>\n",
       "      <th>True</th>\n",
       "      <td>CURRENCY_CONVERSION</td>\n",
       "      <td>4958415</td>\n",
       "      <td>4561739</td>\n",
       "      <td>6727.105606</td>\n",
       "      <td>6188.933359</td>\n",
       "      <td>737.080</td>\n",
       "      <td>6.151446e+07</td>\n",
       "      <td>6.127293e+07</td>\n",
       "      <td>HAND</td>\n",
       "      <td>500</td>\n",
       "      <td>200</td>\n",
       "      <td>4</td>\n",
       "    </tr>\n",
       "    <tr>\n",
       "      <th>True</th>\n",
       "      <td>CURRENCY_CONVERSION</td>\n",
       "      <td>4958415</td>\n",
       "      <td>4561739</td>\n",
       "      <td>6616.592673</td>\n",
       "      <td>6087.261523</td>\n",
       "      <td>749.391</td>\n",
       "      <td>6.050390e+07</td>\n",
       "      <td>6.026634e+07</td>\n",
       "      <td>HAND</td>\n",
       "      <td>500</td>\n",
       "      <td>200</td>\n",
       "      <td>4</td>\n",
       "    </tr>\n",
       "    <tr>\n",
       "      <th>True</th>\n",
       "      <td>CURRENCY_CONVERSION</td>\n",
       "      <td>4958415</td>\n",
       "      <td>4561739</td>\n",
       "      <td>7015.470095</td>\n",
       "      <td>6454.228526</td>\n",
       "      <td>706.783</td>\n",
       "      <td>6.415134e+07</td>\n",
       "      <td>6.389946e+07</td>\n",
       "      <td>HAND</td>\n",
       "      <td>500</td>\n",
       "      <td>200</td>\n",
       "      <td>4</td>\n",
       "    </tr>\n",
       "  </tbody>\n",
       "</table>\n",
       "<p>1000 rows × 12 columns</p>\n",
       "</div>"
      ],
      "text/plain": [
       "                                        query  num_events  num_results  \\\n",
       "avg_bid_size faster_copy                                                 \n",
       "100          False        CURRENCY_CONVERSION     4958415      4561739   \n",
       "             False        CURRENCY_CONVERSION     4958415      4561739   \n",
       "             False        CURRENCY_CONVERSION     4958415      4561739   \n",
       "             False        CURRENCY_CONVERSION     4958415      4561739   \n",
       "             False        CURRENCY_CONVERSION     4958415      4561739   \n",
       "...                                       ...         ...          ...   \n",
       "9900         True         CURRENCY_CONVERSION     4958415      4561739   \n",
       "             True         CURRENCY_CONVERSION     4958415      4561739   \n",
       "             True         CURRENCY_CONVERSION     4958415      4561739   \n",
       "             True         CURRENCY_CONVERSION     4958415      4561739   \n",
       "             True         CURRENCY_CONVERSION     4958415      4561739   \n",
       "\n",
       "                          events_per_sec  results_per_sec  runtime_sec  \\\n",
       "avg_bid_size faster_copy                                                 \n",
       "100          False         136731.055592    125792.493933       36.264   \n",
       "             False         110772.865377    101910.973594       44.762   \n",
       "             False         124661.596480    114688.598366       39.775   \n",
       "             False         118268.694097    108807.131783       41.925   \n",
       "             False          26531.052860     24408.553649      186.891   \n",
       "...                                  ...              ...          ...   \n",
       "9900         True            6992.241208      6432.857963      709.131   \n",
       "             True            7203.334060      6627.063267      688.350   \n",
       "             True            6727.105606      6188.933359      737.080   \n",
       "             True            6616.592673      6087.261523      749.391   \n",
       "             True            7015.470095      6454.228526      706.783   \n",
       "\n",
       "                          event_bytes_per_sec  result_bytes_per_sec coder  \\\n",
       "avg_bid_size faster_copy                                                    \n",
       "100          False               1.755097e+07          1.264188e+07  HAND   \n",
       "             False               1.421895e+07          1.024184e+07  HAND   \n",
       "             False               1.600172e+07          1.152596e+07  HAND   \n",
       "             False               1.518112e+07          1.093489e+07  HAND   \n",
       "             False               3.405560e+06          2.453008e+06  HAND   \n",
       "...                                       ...                   ...   ...   \n",
       "9900         True                6.393893e+07          6.368789e+07  HAND   \n",
       "             True                6.586922e+07          6.561060e+07  HAND   \n",
       "             True                6.151446e+07          6.127293e+07  HAND   \n",
       "             True                6.050390e+07          6.026634e+07  HAND   \n",
       "             True                6.415134e+07          6.389946e+07  HAND   \n",
       "\n",
       "                          avg_auction_size  avg_person_size  parallelism  \n",
       "avg_bid_size faster_copy                                                  \n",
       "100          False                     500              200            4  \n",
       "             False                     500              200            4  \n",
       "             False                     500              200            4  \n",
       "             False                     500              200            4  \n",
       "             False                     500              200            4  \n",
       "...                                    ...              ...          ...  \n",
       "9900         True                      500              200            4  \n",
       "             True                      500              200            4  \n",
       "             True                      500              200            4  \n",
       "             True                      500              200            4  \n",
       "             True                      500              200            4  \n",
       "\n",
       "[1000 rows x 12 columns]"
      ]
     },
     "execution_count": 33,
     "metadata": {},
     "output_type": "execute_result"
    }
   ],
   "source": [
    "df"
   ]
  },
  {
   "cell_type": "code",
   "execution_count": 34,
   "id": "protecting-providence",
   "metadata": {},
   "outputs": [
    {
     "data": {
      "text/plain": [
       "<AxesSubplot:xlabel='avg_bid_size'>"
      ]
     },
     "execution_count": 34,
     "metadata": {},
     "output_type": "execute_result"
    },
    {
     "data": {
      "image/png": "[encoded data removed]",
      "text/plain": [
       "<Figure size 432x288 with 1 Axes>"
      ]
     },
     "metadata": {
      "needs_background": "light"
     },
     "output_type": "display_data"
    }
   ],
   "source": [
    "df.xs(True, level=1).groupby(\"avg_bid_size\")[\"events_per_sec\"].mean().plot()"
   ]
  },
  {
   "cell_type": "code",
   "execution_count": 35,
   "id": "auburn-campus",
   "metadata": {},
   "outputs": [
    {
     "data": {
      "text/plain": [
       "<AxesSubplot:xlabel='avg_bid_size'>"
      ]
     },
     "execution_count": 35,
     "metadata": {},
     "output_type": "execute_result"
    },
    {
     "data": {
      "image/png": "[encoded data removed]",
      "text/plain": [
       "<Figure size 432x288 with 1 Axes>"
      ]
     },
     "metadata": {
      "needs_background": "light"
     },
     "output_type": "display_data"
    }
   ],
   "source": [
    "df.xs(True, level=1).groupby(\"avg_bid_size\")[\"event_bytes_per_sec\"].mean().plot()"
   ]
  },
  {
   "cell_type": "code",
   "execution_count": null,
   "id": "mental-approval",
   "metadata": {},
   "outputs": [],
   "source": []
  },
  {
   "cell_type": "code",
   "execution_count": null,
   "id": "desperate-barcelona",
   "metadata": {},
   "outputs": [],
   "source": []
  },
  {
   "cell_type": "code",
   "execution_count": null,
   "id": "tribal-broadcast",
   "metadata": {},
   "outputs": [],
   "source": []
  }
 ],
 "metadata": {
  "kernelspec": {
   "display_name": "Python 3",
   "language": "python",
   "name": "python3"
  },
  "language_info": {
   "codemirror_mode": {
    "name": "ipython",
    "version": 3
   },
   "file_extension": ".py",
   "mimetype": "text/x-python",
   "name": "python",
   "nbconvert_exporter": "python",
   "pygments_lexer": "ipython3",
   "version": "3.9.5"
  }
 },
 "nbformat": 4,
 "nbformat_minor": 5
}
