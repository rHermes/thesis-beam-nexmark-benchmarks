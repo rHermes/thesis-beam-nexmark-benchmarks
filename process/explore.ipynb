{
 "cells": [
  {
   "cell_type": "code",
   "execution_count": 11,
   "id": "monetary-owner",
   "metadata": {},
   "outputs": [],
   "source": [
    "import json\n",
    "\n",
    "# %matplotlib widget\n",
    "# %matplotlib notebook\n",
    "%matplotlib inline\n",
    "\n",
    "import matplotlib.pyplot as plt\n",
    "import numpy as np\n",
    "import pandas as pd\n",
    "\n",
    "# https://stackoverflow.com/a/37704379\n",
    "def nested_get(dic, keys):    \n",
    "    for key in keys:\n",
    "        dic = dic[key]\n",
    "    return dic\n",
    "\n",
    "\n",
    "def read_data(fp):\n",
    "    data = []\n",
    "    with open(fp) as f:\n",
    "        for line in f:\n",
    "            data.append(json.loads(line))\n",
    "    \n",
    "    return data\n",
    "\n",
    "\n",
    "# Returns just the object fields we care about\n",
    "def wrangle(res):\n",
    "    props = {\n",
    "        \"query\":            \"config.query\",\n",
    "        \"faster_copy\":      \"extra.faster_copy\",\n",
    "        \"num_events\":       \"perf.numEvents\",\n",
    "        \"num_results\":      \"perf.numResults\",\n",
    "        \"events_per_sec\":   \"perf.eventsPerSec\",\n",
    "        \"results_per_sec\":  \"perf.resultsPerSec\",\n",
    "        \"runtime_sec\":      \"perf.runtimeSec\",\n",
    "        \"coder\":            \"config.coderStrategy\",\n",
    "        \"avg_auction_size\": \"config.avgAuctionByteSize\",\n",
    "        \"avg_bid_size\":     \"config.avgBidByteSize\",\n",
    "        \"avg_person_size\":  \"config.avgPersonByteSize\",\n",
    "        \"parallelism\": \"extra.parallelism\",\n",
    "    }\n",
    "    ret = {name: nested_get(res[\"Result\"], keys.split(\".\")) for name, keys in props.items()}\n",
    "    return ret"
   ]
  },
  {
   "cell_type": "markdown",
   "id": "departmental-button",
   "metadata": {},
   "source": [
    "# Battery 03\n",
    "\n",
    "This battery of tests varies over: query, coder, faster copy. Each run is repeated 10 times.\n",
    "The parallalism is 2"
   ]
  },
  {
   "cell_type": "code",
   "execution_count": 2,
   "id": "excess-object",
   "metadata": {},
   "outputs": [],
   "source": [
    "def bat3_convert_to_df(wr):\n",
    "    df = pd.DataFrame.from_records(wr)\n",
    "    df[\"coder\"] = df[\"coder\"].astype(\"category\")\n",
    "    df[\"query\"] = df[\"query\"].astype(\"category\")\n",
    "\n",
    "    # We do some preprocessing here.\n",
    "    df = df.set_index([\"query\", \"coder\", \"faster_copy\"]).sort_index()\n",
    "\n",
    "    return df"
   ]
  },
  {
   "cell_type": "markdown",
   "id": "minus-harvest",
   "metadata": {},
   "source": [
    "## Loading the data\n",
    "\n",
    "We load the data from the dump from the go program"
   ]
  },
  {
   "cell_type": "code",
   "execution_count": 3,
   "id": "painful-poultry",
   "metadata": {},
   "outputs": [],
   "source": [
    "bat3_all = read_data(\"../results/battery03/wow.json\")\n",
    "bat3_good = [wrangle(r) for r in bat3_all if r[\"Status\"] == \"OK\"]\n",
    "df =  bat3_convert_to_df(bat3_good)"
   ]
  },
  {
   "cell_type": "markdown",
   "id": "rocky-breeding",
   "metadata": {},
   "source": [
    "## Question 1: How does `faster_copy` affect the different queries for normal queries"
   ]
  },
  {
   "cell_type": "code",
   "execution_count": 4,
   "id": "sticky-cement",
   "metadata": {},
   "outputs": [],
   "source": [
    "bf = df.xs(True, level=2) / df.xs(False, level=2)\n",
    "bf = bf[\"events_per_sec\"]"
   ]
  },
  {
   "cell_type": "code",
   "execution_count": 20,
   "id": "latter-trigger",
   "metadata": {},
   "outputs": [],
   "source": [
    "gg = bf.groupby([\"query\", \"coder\"]).agg([\"mean\", \"std\"])"
   ]
  },
  {
   "cell_type": "code",
   "execution_count": 21,
   "id": "atmospheric-browse",
   "metadata": {},
   "outputs": [],
   "source": [
    "jep = gg.unstack()[\"mean\"].sort_values(\"HAND\") - 1"
   ]
  },
  {
   "cell_type": "code",
   "execution_count": 22,
   "id": "racial-ensemble",
   "metadata": {},
   "outputs": [
    {
     "data": {
      "text/html": [
       "<div>\n",
       "<style scoped>\n",
       "    .dataframe tbody tr th:only-of-type {\n",
       "        vertical-align: middle;\n",
       "    }\n",
       "\n",
       "    .dataframe tbody tr th {\n",
       "        vertical-align: top;\n",
       "    }\n",
       "\n",
       "    .dataframe thead th {\n",
       "        text-align: right;\n",
       "    }\n",
       "</style>\n",
       "<table border=\"1\" class=\"dataframe\">\n",
       "  <thead>\n",
       "    <tr style=\"text-align: right;\">\n",
       "      <th>coder</th>\n",
       "      <th>AVRO</th>\n",
       "      <th>HAND</th>\n",
       "      <th>JAVA</th>\n",
       "    </tr>\n",
       "    <tr>\n",
       "      <th>query</th>\n",
       "      <th></th>\n",
       "      <th></th>\n",
       "      <th></th>\n",
       "    </tr>\n",
       "  </thead>\n",
       "  <tbody>\n",
       "    <tr>\n",
       "      <th>HIGHEST_BID</th>\n",
       "      <td>-0.006906</td>\n",
       "      <td>-0.024286</td>\n",
       "      <td>0.018924</td>\n",
       "    </tr>\n",
       "    <tr>\n",
       "      <th>USER_SESSIONS</th>\n",
       "      <td>0.016375</td>\n",
       "      <td>0.014112</td>\n",
       "      <td>NaN</td>\n",
       "    </tr>\n",
       "    <tr>\n",
       "      <th>BOUNDED_SIDE_INPUT_JOIN</th>\n",
       "      <td>0.024461</td>\n",
       "      <td>0.019769</td>\n",
       "      <td>NaN</td>\n",
       "    </tr>\n",
       "    <tr>\n",
       "      <th>AVERAGE_SELLING_PRICE_BY_SELLER</th>\n",
       "      <td>0.111259</td>\n",
       "      <td>0.081415</td>\n",
       "      <td>NaN</td>\n",
       "    </tr>\n",
       "    <tr>\n",
       "      <th>WINNING_BIDS</th>\n",
       "      <td>0.118262</td>\n",
       "      <td>0.096236</td>\n",
       "      <td>NaN</td>\n",
       "    </tr>\n",
       "    <tr>\n",
       "      <th>AVERAGE_PRICE_FOR_CATEGORY</th>\n",
       "      <td>0.109512</td>\n",
       "      <td>0.105380</td>\n",
       "      <td>NaN</td>\n",
       "    </tr>\n",
       "    <tr>\n",
       "      <th>SESSION_SIDE_INPUT_JOIN</th>\n",
       "      <td>0.158041</td>\n",
       "      <td>0.155035</td>\n",
       "      <td>NaN</td>\n",
       "    </tr>\n",
       "    <tr>\n",
       "      <th>HOT_ITEMS</th>\n",
       "      <td>0.287695</td>\n",
       "      <td>0.223407</td>\n",
       "      <td>NaN</td>\n",
       "    </tr>\n",
       "    <tr>\n",
       "      <th>PROCESSING_TIME_WINDOWS</th>\n",
       "      <td>0.352162</td>\n",
       "      <td>0.279736</td>\n",
       "      <td>NaN</td>\n",
       "    </tr>\n",
       "    <tr>\n",
       "      <th>PASSTHROUGH</th>\n",
       "      <td>1.867508</td>\n",
       "      <td>1.848686</td>\n",
       "      <td>1.983889</td>\n",
       "    </tr>\n",
       "    <tr>\n",
       "      <th>MONITOR_NEW_USERS</th>\n",
       "      <td>2.619220</td>\n",
       "      <td>2.650927</td>\n",
       "      <td>NaN</td>\n",
       "    </tr>\n",
       "    <tr>\n",
       "      <th>CURRENCY_CONVERSION</th>\n",
       "      <td>2.612819</td>\n",
       "      <td>2.717941</td>\n",
       "      <td>3.122002</td>\n",
       "    </tr>\n",
       "    <tr>\n",
       "      <th>LOCAL_ITEM_SUGGESTION</th>\n",
       "      <td>2.699817</td>\n",
       "      <td>3.981736</td>\n",
       "      <td>NaN</td>\n",
       "    </tr>\n",
       "    <tr>\n",
       "      <th>SELECTION</th>\n",
       "      <td>4.548740</td>\n",
       "      <td>4.255668</td>\n",
       "      <td>4.639259</td>\n",
       "    </tr>\n",
       "  </tbody>\n",
       "</table>\n",
       "</div>"
      ],
      "text/plain": [
       "coder                                AVRO      HAND      JAVA\n",
       "query                                                        \n",
       "HIGHEST_BID                     -0.006906 -0.024286  0.018924\n",
       "USER_SESSIONS                    0.016375  0.014112       NaN\n",
       "BOUNDED_SIDE_INPUT_JOIN          0.024461  0.019769       NaN\n",
       "AVERAGE_SELLING_PRICE_BY_SELLER  0.111259  0.081415       NaN\n",
       "WINNING_BIDS                     0.118262  0.096236       NaN\n",
       "AVERAGE_PRICE_FOR_CATEGORY       0.109512  0.105380       NaN\n",
       "SESSION_SIDE_INPUT_JOIN          0.158041  0.155035       NaN\n",
       "HOT_ITEMS                        0.287695  0.223407       NaN\n",
       "PROCESSING_TIME_WINDOWS          0.352162  0.279736       NaN\n",
       "PASSTHROUGH                      1.867508  1.848686  1.983889\n",
       "MONITOR_NEW_USERS                2.619220  2.650927       NaN\n",
       "CURRENCY_CONVERSION              2.612819  2.717941  3.122002\n",
       "LOCAL_ITEM_SUGGESTION            2.699817  3.981736       NaN\n",
       "SELECTION                        4.548740  4.255668  4.639259"
      ]
     },
     "execution_count": 22,
     "metadata": {},
     "output_type": "execute_result"
    }
   ],
   "source": [
    "jep"
   ]
  },
  {
   "cell_type": "code",
   "execution_count": 12,
   "id": "aware-wholesale",
   "metadata": {},
   "outputs": [
    {
     "data": {
      "text/plain": [
       "<AxesSubplot:ylabel='query'>"
      ]
     },
     "execution_count": 12,
     "metadata": {},
     "output_type": "execute_result"
    },
    {
     "data": {
      "image/png": "[encoded data removed]",
      "text/plain": [
       "<Figure size 432x288 with 1 Axes>"
      ]
     },
     "metadata": {
      "needs_background": "light"
     },
     "output_type": "display_data"
    }
   ],
   "source": [
    "jep[(jep.isna() | (jep > 0)).all(axis=1)].plot(kind=\"barh\")"
   ]
  },
  {
   "cell_type": "markdown",
   "id": "prescribed-ethics",
   "metadata": {},
   "source": [
    "Apparently the change is minimal between runners. The java serialiser only works\n",
    "for certain queries. An outlier here is the `LOCAL_ITEM_SUGGESTION` query\n",
    "where the `HAND` encoder perform a lot better.\n",
    "\n",
    "One guess is that the queries which output a lot of records in the results would\n",
    "be hit the hardest. We test this out."
   ]
  },
  {
   "cell_type": "code",
   "execution_count": 9,
   "id": "honest-aside",
   "metadata": {},
   "outputs": [],
   "source": [
    "results = df[\"num_results\"].groupby(\"query\").mean()"
   ]
  },
  {
   "cell_type": "code",
   "execution_count": 17,
   "id": "united-barrier",
   "metadata": {},
   "outputs": [
    {
     "data": {
      "text/plain": [
       "<AxesSubplot:ylabel='query'>"
      ]
     },
     "execution_count": 17,
     "metadata": {},
     "output_type": "execute_result"
    },
    {
     "data": {
      "image/png": "[encoded data removed]",
      "text/plain": [
       "<Figure size 432x288 with 1 Axes>"
      ]
     },
     "metadata": {
      "needs_background": "light"
     },
     "output_type": "display_data"
    }
   ],
   "source": [
    "results.sort_values().plot(kind=\"barh\")"
   ]
  },
  {
   "cell_type": "markdown",
   "id": "pointed-drove",
   "metadata": {},
   "source": [
    "Based on these results, this doesn't seem to be the case. It might be number of operators?"
   ]
  },
  {
   "cell_type": "markdown",
   "id": "separate-surprise",
   "metadata": {},
   "source": [
    "The `HIGHEST_BID` takes a lot of time to run and stalles, so it has been excluded from later benchmarks."
   ]
  },
  {
   "cell_type": "markdown",
   "id": "improved-orleans",
   "metadata": {},
   "source": [
    "Since we have seen that the coders doesn't matter, let's look at just the hand coded results."
   ]
  },
  {
   "cell_type": "markdown",
   "id": "historic-waters",
   "metadata": {},
   "source": [
    "## Battery04: Does paralleism affect the speedup?\n",
    "\n",
    "This battery tests if the number of parallel operators change how affected the benchmark is.\n",
    "If there is no interplay here, there effect should simply be multiplied by the number of\n",
    "paralllelism."
   ]
  },
  {
   "cell_type": "code",
   "execution_count": null,
   "id": "single-stretch",
   "metadata": {},
   "outputs": [],
   "source": []
  },
  {
   "cell_type": "markdown",
   "id": "lasting-instrumentation",
   "metadata": {},
   "source": [
    "## Battery05: Does record size matter?\n",
    "\n",
    "Change the size of the events to see if it has any effect. The idea is that\n",
    "since the flink runner needs to marshal and unmarshal more."
   ]
  },
  {
   "cell_type": "code",
   "execution_count": null,
   "id": "improved-postage",
   "metadata": {},
   "outputs": [],
   "source": []
  }
 ],
 "metadata": {
  "kernelspec": {
   "display_name": "Python 3",
   "language": "python",
   "name": "python3"
  },
  "language_info": {
   "codemirror_mode": {
    "name": "ipython",
    "version": 3
   },
   "file_extension": ".py",
   "mimetype": "text/x-python",
   "name": "python",
   "nbconvert_exporter": "python",
   "pygments_lexer": "ipython3",
   "version": "3.9.1"
  }
 },
 "nbformat": 4,
 "nbformat_minor": 5
}
